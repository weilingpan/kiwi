{
 "cells": [
  {
   "cell_type": "code",
   "execution_count": 1,
   "id": "be5e3647-724a-4a86-927d-2dab80e23cf2",
   "metadata": {},
   "outputs": [
    {
     "name": "stdout",
     "output_type": "stream",
     "text": [
      "C:\\Users\\zz860/.tcms.conf\n"
     ]
    }
   ],
   "source": [
    "import os\n",
    "print(os.path.expanduser('~/.tcms.conf'))\n",
    "\n",
    "#C:\\Users\\zz860/.tcms.conf\n",
    "# [tcms]\n",
    "# url = https://localhost/xml-rpc/\n",
    "# username = admin\n",
    "# password = admin"
   ]
  },
  {
   "cell_type": "code",
   "execution_count": 4,
   "id": "16c2d4c3-7b54-497b-825a-0b84119cefe4",
   "metadata": {},
   "outputs": [],
   "source": [
    " # disable SSL verification by using the _create_unverified_context function from the ssl module.\n",
    " #    While this approach can be used to bypass SSL verification, \n",
    " #    it's important to be aware of the potential security implications.\n",
    "import ssl\n",
    "try:\n",
    "    _create_default_https_context = ssl._create_unverified_context\n",
    "except AttributeError:\n",
    "    pass\n",
    "else:\n",
    "    ssl._create_default_https_context = _create_default_https_context"
   ]
  },
  {
   "cell_type": "code",
   "execution_count": 5,
   "id": "f2cd8813-72db-487d-8882-3cc96a108801",
   "metadata": {},
   "outputs": [
    {
     "name": "stdout",
     "output_type": "stream",
     "text": [
      "{'id': 3, 'create_date': <DateTime '20240201T15:20:41' at 0x2012fa60df0>, 'is_automated': False, 'script': '', 'arguments': '', 'extra_link': None, 'summary': '123333', 'requirement': None, 'notes': '', 'text': '**Steps to reproduce**:\\n\\n1. item\\n2. item\\n3. item\\n\\n**Expected results**:\\n\\n1. item\\n2. item\\n3. item', 'case_status': 2, 'case_status__name': 'CONFIRMED', 'category': 1, 'category__name': '--default--', 'priority': 1, 'priority__value': 'P1', 'author': 2, 'author__username': 'admin', 'default_tester': None, 'default_tester__username': None, 'reviewer': None, 'reviewer__username': None, 'setup_duration': 0.0, 'testing_duration': 0.0, 'expected_duration': 0.0}\n",
      "{'id': 4, 'create_date': <DateTime '20240201T15:21:31' at 0x2012fa61090>, 'is_automated': False, 'script': '', 'arguments': '', 'extra_link': None, 'summary': '123', 'requirement': None, 'notes': '', 'text': '**Steps to reproduce**:\\n\\n1. item\\n2. item\\n3. item\\n\\n**Expected results**:\\n\\n1. item\\n2. item\\n3. item', 'case_status': 2, 'case_status__name': 'CONFIRMED', 'category': 1, 'category__name': '--default--', 'priority': 1, 'priority__value': 'P1', 'author': 2, 'author__username': 'admin', 'default_tester': None, 'default_tester__username': None, 'reviewer': None, 'reviewer__username': None, 'setup_duration': 0.0, 'testing_duration': 0.0, 'expected_duration': 0.0}\n"
     ]
    }
   ],
   "source": [
    "from tcms_api import TCMS\n",
    "\n",
    "rpc_client = TCMS()\n",
    "\n",
    "for test_case in rpc_client.exec.TestCase.filter({'plan': 1}):\n",
    "    print(test_case)"
   ]
  },
  {
   "cell_type": "code",
   "execution_count": 50,
   "id": "319e7d78-b9da-416f-a628-0b7b40f3a30f",
   "metadata": {},
   "outputs": [
    {
     "name": "stdout",
     "output_type": "stream",
     "text": [
      "user: {'email': 'admin@gmail.com', 'first_name': '', 'id': 2, 'is_active': True, 'is_staff': True, 'is_superuser': True, 'last_name': '', 'username': 'admin'}\n",
      "classification: {'id': 1, 'name': 'RAG'}\n",
      "product=[{'id': 1, 'name': 'RAG', 'description': '', 'classification': 1}, {'id': 6, 'name': 'Product created', 'description': '', 'classification': 1}]\n",
      "{'id': 6, 'name': 'Product created', 'description': '', 'classification': 1}\n",
      "{'id': 52, 'is_automated': False, 'script': '', 'arguments': '', 'extra_link': None, 'summary': 'Case 1 created', 'requirement': None, 'notes': '', 'text': 'text for case 1', 'setup_duration': 'None', 'testing_duration': 'None', 'case_status': 2, 'category': 6, 'priority': 1, 'author': 2, 'default_tester': None, 'reviewer': None, 'create_date': <DateTime '20240205T17:07:17' at 0x2012fffd0f0>}\n",
      "{'id': 53, 'is_automated': False, 'script': '', 'arguments': '', 'extra_link': None, 'summary': 'Case 2 created', 'requirement': None, 'notes': '', 'text': 'text for case 2', 'setup_duration': 'None', 'testing_duration': 'None', 'case_status': 2, 'category': 6, 'priority': 1, 'author': 2, 'default_tester': None, 'reviewer': None, 'create_date': <DateTime '20240205T17:07:17' at 0x2012fffd210>}\n",
      "{'id': 54, 'is_automated': False, 'script': '', 'arguments': '', 'extra_link': None, 'summary': 'Case 3 created', 'requirement': None, 'notes': '', 'text': 'text for case 3', 'setup_duration': 'None', 'testing_duration': 'None', 'case_status': 2, 'category': 6, 'priority': 1, 'author': 2, 'default_tester': None, 'reviewer': None, 'create_date': <DateTime '20240205T17:07:17' at 0x2012fffe0b0>}\n"
     ]
    }
   ],
   "source": [
    "import tcms_api\n",
    "from datetime import datetime\n",
    "\n",
    "rpc_client = tcms_api.TCMS().exec\n",
    "\n",
    "user = rpc_client.User.filter()[0]\n",
    "print(f\"user: {user}\")\n",
    "\n",
    "classification = rpc_client.Classification.filter({})[0]\n",
    "print(f\"classification: {classification}\")\n",
    "\n",
    "list_products = rpc_client.Product.filter()\n",
    "print(f\"product={list_products}\")\n",
    "\n",
    "product = rpc_client.Product.filter({'name': 'Product created'})[0]\n",
    "print(product)\n",
    "\n",
    "# product = rpc_client.Product.create({\n",
    "#     'name': 'Product created',\n",
    "#     'classification': classification['id'],\n",
    "# })\n",
    "\n",
    "version = rpc_client.Version.create({\n",
    "    'product': product['id'],\n",
    "    'value': f'version-auto-{datetime.now().isoformat()}',\n",
    "})\n",
    "\n",
    "# create TestPlan\n",
    "test_plan = rpc_client.TestPlan.create({\n",
    "    'name': f'TP: created at {datetime.now().isoformat()}',\n",
    "    'text': 'A script is creating this TP and adds TCs and TRs to it to establish a performance baseline',\n",
    "    'type': 4, # 4: Interation, 7: Performance\n",
    "    'product': product['id'],\n",
    "    'product_version': version['id'],\n",
    "    'is_active': True,\n",
    "})\n",
    "\n",
    "test_cases = [] # for run\n",
    "# test case setting\n",
    "priority = rpc_client.Priority.filter({})[0]\n",
    "category = rpc_client.Category.filter({'product': product['id'],})[0]\n",
    "confirmed_status = rpc_client.TestCaseStatus.filter({'is_confirmed': True})[0]\n",
    "\n",
    "for i in range(3):\n",
    "    test_case = rpc_client.TestCase.create({\n",
    "        'summary': f'Case {i+1} created',\n",
    "        'product': product['id'],\n",
    "        'category': category['id'],\n",
    "        'priority': priority['id'],\n",
    "        'case_status': confirmed_status['id'],\n",
    "        'text': f\"text for case {i+1}\"\n",
    "    })\n",
    "    # id, create_date, is_automated, script, arguments, extra_link, summary,\n",
    "    # requirement, notes, text, setup_duration, testing_duration, case_status,\n",
    "    # category, priority, author, default_tester, reviewer\n",
    "    # ref: https://kiwitcms.readthedocs.io/en/latest/modules/tcms.testcases.models.html#tcms.testcases.models.TestCase\n",
    "    print(test_case)\n",
    "    rpc_client.TestCase.add_comment(test_case['id'], f\"comment for case {i+1}\")\n",
    "\n",
    "    test_cases.append(test_case)\n",
    "    rpc_client.TestPlan.add_case(test_plan['id'], test_case['id'])\n",
    "    \n",
    "\n",
    "    \n",
    "# # create build, test run & test executions\n",
    "# pass_status = rpc_client.TestExecutionStatus.filter({'weight__gt': 0})[0]\n",
    "# build = rpc_client.Build.create({\n",
    "#     'name': 'b.%s' % datetime.now().isoformat(),\n",
    "#     'description': 'the product build at %s' % datetime.now().isoformat(),\n",
    "#     'version': version['id'],\n",
    "# })\n",
    "\n",
    "\n",
    "# # create a separate TestPlan\n",
    "# for i in range(RANGE_SIZE):\n",
    "#     test_run = rpc_client.TestRun.create({\n",
    "#         'summary': 'TR %d %s' % (i, datetime.now().isoformat()),\n",
    "#         'manager': user['id'],\n",
    "#         'plan': test_plan['id'],\n",
    "#         'build': build['id'],\n",
    "#     })\n",
    "#     print(\"TR-%d created\" % test_run['id'])\n",
    "\n",
    "#     # add cases to TR\n",
    "#     for case in test_cases:\n",
    "#         result = rpc_client.TestRun.add_case(test_run['id'], case['id'])\n",
    "#         if not isinstance(result, list):\n",
    "#             result = [result]\n",
    "\n",
    "#         # record the results\n",
    "#         for execution in result:\n",
    "#             rpc_client.TestExecution.update(execution['id'], {\n",
    "#                 'status': pass_status['id'],\n",
    "#             })"
   ]
  },
  {
   "cell_type": "code",
   "execution_count": null,
   "id": "f265d6d2-8130-4620-b195-fa38f7d69504",
   "metadata": {},
   "outputs": [],
   "source": []
  }
 ],
 "metadata": {
  "kernelspec": {
   "display_name": "dev",
   "language": "python",
   "name": "dev"
  },
  "language_info": {
   "codemirror_mode": {
    "name": "ipython",
    "version": 3
   },
   "file_extension": ".py",
   "mimetype": "text/x-python",
   "name": "python",
   "nbconvert_exporter": "python",
   "pygments_lexer": "ipython3",
   "version": "3.10.9"
  }
 },
 "nbformat": 4,
 "nbformat_minor": 5
}
